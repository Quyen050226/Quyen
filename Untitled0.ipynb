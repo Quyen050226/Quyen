{
  "nbformat": 4,
  "nbformat_minor": 0,
  "metadata": {
    "colab": {
      "provenance": [],
      "authorship_tag": "ABX9TyPvo88Q5i808Z3QJSnl6UGK",
      "include_colab_link": true
    },
    "kernelspec": {
      "name": "python3",
      "display_name": "Python 3"
    },
    "language_info": {
      "name": "python"
    }
  },
  "cells": [
    {
      "cell_type": "markdown",
      "metadata": {
        "id": "view-in-github",
        "colab_type": "text"
      },
      "source": [
        "<a href=\"https://colab.research.google.com/github/Quyen050226/Quyen/blob/main/Untitled0.ipynb\" target=\"_parent\"><img src=\"https://colab.research.google.com/assets/colab-badge.svg\" alt=\"Open In Colab\"/></a>"
      ]
    },
    {
      "cell_type": "code",
      "source": [
        "#chào bạn\n",
        "name = input(\"Bạn tên gì\")\n",
        "print(f\"chao{name}! \")\n"
      ],
      "metadata": {
        "colab": {
          "base_uri": "https://localhost:8080/"
        },
        "id": "CKLdI9skqi9z",
        "outputId": "e4c15f74-c588-4edd-9438-ef0da70d9dda"
      },
      "execution_count": null,
      "outputs": [
        {
          "output_type": "stream",
          "name": "stdout",
          "text": [
            "Bạn tên gìQuyen\n",
            "chaoQuyen! \n"
          ]
        }
      ]
    },
    {
      "cell_type": "code",
      "source": [
        "#Tinh dien tich hinh chu nhat\n",
        "x= float(input(\"chieu dai hinh chu nhat:\" ));\n",
        "y= float(input(\"chieu rong hinh chu nhat:\" ));\n",
        "dien_tich = x*y\n",
        "print(f\"tinh dien tich hinh chu nhat:{dien_tich} \");"
      ],
      "metadata": {
        "colab": {
          "base_uri": "https://localhost:8080/"
        },
        "id": "NUfwE4MnYra4",
        "outputId": "84b57727-a36c-4db6-f124-a078112b1cfb"
      },
      "execution_count": null,
      "outputs": [
        {
          "output_type": "stream",
          "name": "stdout",
          "text": [
            "chieu dai hinh chu nhat:2\n",
            "chieu rong hinh chu nhat:3\n",
            "tinh dien tich hinh chu nhat:6.0 \n"
          ]
        }
      ]
    },
    {
      "cell_type": "code",
      "source": [
        "#Ten va ho\n",
        "ho= input(\"ho cua tui la:\");\n",
        "ten = input(\"ten cua tui la\");\n",
        "print(f\"họ và tên của tui la:{ho}.{ten}\");\n"
      ],
      "metadata": {
        "colab": {
          "base_uri": "https://localhost:8080/"
        },
        "id": "Oug41hq4b_jC",
        "outputId": "90599593-67be-4138-c262-4cb4dc789b1d"
      },
      "execution_count": null,
      "outputs": [
        {
          "output_type": "stream",
          "name": "stdout",
          "text": [
            "ho cua tui la:Tran\n",
            "ten cua tui laQuyen\n",
            "họ và tên của tui la:Tran.Quyen\n"
          ]
        }
      ]
    },
    {
      "cell_type": "code",
      "source": [
        "#xin chao bạn\n",
        "name = \"david\"\n",
        "print(\"Hello,\",name );\n",
        "friend_name =\"dan\"\n",
        "print(\"hello,\"+name + \"and\" + friend_name);\n",
        "\n"
      ],
      "metadata": {
        "colab": {
          "base_uri": "https://localhost:8080/"
        },
        "id": "XC78ErMzepGx",
        "outputId": "c450398e-8b0b-4fcb-ef25-e7648466fcf5"
      },
      "execution_count": null,
      "outputs": [
        {
          "output_type": "stream",
          "name": "stdout",
          "text": [
            "Hello, david\n",
            "hello,davidanddan\n"
          ]
        }
      ]
    },
    {
      "cell_type": "code",
      "source": [
        "X=6\n",
        "y=9\n",
        "total =x+y\n",
        "print(\"tong=\",total);\n"
      ],
      "metadata": {
        "colab": {
          "base_uri": "https://localhost:8080/"
        },
        "id": "NdDymcQihzeQ",
        "outputId": "9d303286-bf06-4945-dc91-1f57df1583b3"
      },
      "execution_count": null,
      "outputs": [
        {
          "output_type": "stream",
          "name": "stdout",
          "text": [
            "tong= 11.0\n"
          ]
        }
      ]
    },
    {
      "cell_type": "code",
      "source": [
        "n =10\n",
        "while n >0:\n",
        "  n -=1\n",
        "  print(n)\n",
        "  if n ==6:\n",
        "    break\n",
        "else:\n",
        "  print('loop done.')\n"
      ],
      "metadata": {
        "colab": {
          "base_uri": "https://localhost:8080/"
        },
        "id": "edgItcgSo9VP",
        "outputId": "bffb42c2-1c13-4e94-8919-b7a05fa1325f"
      },
      "execution_count": null,
      "outputs": [
        {
          "output_type": "stream",
          "name": "stdout",
          "text": [
            "9\n",
            "8\n",
            "7\n",
            "6\n"
          ]
        }
      ]
    },
    {
      "cell_type": "code",
      "source": [
        "data = [1,3,4,5,10,8,9]\n",
        "big_index = 0\n",
        "for j in range(len(data)):\n",
        "  if data [j] > data[big_index]:\n",
        "    big_index =j\n",
        "  data[big_index]\n",
        "print(data[big_index])\n"
      ],
      "metadata": {
        "colab": {
          "base_uri": "https://localhost:8080/"
        },
        "id": "CnUrf2Jvt9aS",
        "outputId": "c0ee3e97-0050-4a39-f617-267bfc70d60c"
      },
      "execution_count": null,
      "outputs": [
        {
          "output_type": "stream",
          "name": "stdout",
          "text": [
            "10\n"
          ]
        }
      ]
    },
    {
      "cell_type": "code",
      "source": [],
      "metadata": {
        "id": "2h3HndkMuW8i"
      },
      "execution_count": null,
      "outputs": []
    }
  ]
}